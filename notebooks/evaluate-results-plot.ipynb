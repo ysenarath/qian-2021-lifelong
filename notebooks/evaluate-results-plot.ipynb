{
 "cells": [
  {
   "cell_type": "code",
   "execution_count": null,
   "id": "d70b29eb-af58-4129-b0b7-21f2162c5488",
   "metadata": {},
   "outputs": [],
   "source": [
    "cd .."
   ]
  },
  {
   "cell_type": "code",
   "execution_count": null,
   "id": "d6cb54c3-c203-488c-bf0e-9ba3a2dfca34",
   "metadata": {
    "scrolled": true
   },
   "outputs": [],
   "source": [
    "import pandas as pd\n",
    "import seaborn as sns\n",
    "\n",
    "sns.set_style(\"whitegrid\")"
   ]
  },
  {
   "cell_type": "code",
   "execution_count": null,
   "id": "c3c1b3e7-b6ab-41d8-a7f6-75a44d4f5b74",
   "metadata": {},
   "outputs": [],
   "source": [
    "# pd.__version__"
   ]
  },
  {
   "cell_type": "code",
   "execution_count": null,
   "id": "16075fd6-5402-4ec2-8c4e-3befb59a91ae",
   "metadata": {},
   "outputs": [],
   "source": [
    "method_beseline_df = pd.read_excel(\n",
    "    \"logs/evaluation-results.xlsx\", sheet_name=\"qian-2021-lifelong-binary-f1\"\n",
    ")\n",
    "method_beseline_df[\"Method\"] = \"Baseline\"\n",
    "method_proposed_df = pd.read_excel(\n",
    "    \"logs/evaluation-results.xlsx\", sheet_name=\"knowledge-infused-atten-BERT\"\n",
    ")\n",
    "method_proposed_df[\"Method\"] = \"Proposed\"\n",
    "\n",
    "df = pd.concat([method_beseline_df, method_proposed_df], axis=0)\n",
    "\n",
    "df.head()"
   ]
  },
  {
   "cell_type": "code",
   "execution_count": null,
   "id": "406b56c3-baa6-4183-9e73-2472957a28ad",
   "metadata": {},
   "outputs": [],
   "source": [
    "sns.catplot(\n",
    "    data=df,\n",
    "    x=\"Step\",\n",
    "    y=\"F1\",\n",
    "    hue=\"Method\",\n",
    "    col=\"Data Partition\",\n",
    "    kind=\"point\",\n",
    "    col_wrap=3,\n",
    ")"
   ]
  },
  {
   "cell_type": "code",
   "execution_count": null,
   "id": "04a869e5-e9a3-40ca-857f-077603b38bc5",
   "metadata": {},
   "outputs": [],
   "source": []
  }
 ],
 "metadata": {
  "kernelspec": {
   "display_name": "Python 3 (ipykernel)",
   "language": "python",
   "name": "python3"
  },
  "language_info": {
   "codemirror_mode": {
    "name": "ipython",
    "version": 3
   },
   "file_extension": ".py",
   "mimetype": "text/x-python",
   "name": "python",
   "nbconvert_exporter": "python",
   "pygments_lexer": "ipython3",
   "version": "3.11.5"
  }
 },
 "nbformat": 4,
 "nbformat_minor": 5
}
